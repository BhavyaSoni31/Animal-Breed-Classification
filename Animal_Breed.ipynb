{
 "cells": [
  {
   "cell_type": "code",
   "execution_count": 1,
   "metadata": {
    "id": "wYY1lCp9WnNi"
   },
   "outputs": [],
   "source": [
    "import os\n",
    "import torch\n",
    "import torch.nn as nn\n",
    "import numpy as np\n",
    "import torchvision\n",
    "import torch.nn.functional as F\n",
    "from torchvision.datasets import ImageFolder\n",
    "from torch.utils.data import DataLoader\n",
    "import torchvision.models as models\n",
    "from torchvision import transforms\n",
    "from torchvision.utils import make_grid\n",
    "import matplotlib.pyplot as plt\n",
    "import torch.optim as optim\n",
    "from PIL import Image\n",
    "import cv2\n"
   ]
  },
  {
   "cell_type": "code",
   "execution_count": null,
   "metadata": {
    "colab": {
     "base_uri": "https://localhost:8080/"
    },
    "id": "vwTtUhwv9keJ",
    "outputId": "6ecdbb92-021b-45b0-b666-81d195fd2b13"
   },
   "outputs": [
    {
     "name": "stdout",
     "output_type": "stream",
     "text": [
      "Collecting pretrainedmodels\n",
      "\u001b[?25l  Downloading https://files.pythonhosted.org/packages/84/0e/be6a0e58447ac16c938799d49bfb5fb7a80ac35e137547fc6cee2c08c4cf/pretrainedmodels-0.7.4.tar.gz (58kB)\n",
      "\r",
      "\u001b[K     |█████▋                          | 10kB 19.5MB/s eta 0:00:01\r",
      "\u001b[K     |███████████▏                    | 20kB 18.4MB/s eta 0:00:01\r",
      "\u001b[K     |████████████████▊               | 30kB 16.7MB/s eta 0:00:01\r",
      "\u001b[K     |██████████████████████▎         | 40kB 14.6MB/s eta 0:00:01\r",
      "\u001b[K     |███████████████████████████▉    | 51kB 16.8MB/s eta 0:00:01\r",
      "\u001b[K     |████████████████████████████████| 61kB 7.1MB/s \n",
      "\u001b[?25hRequirement already satisfied: torch in /usr/local/lib/python3.7/dist-packages (from pretrainedmodels) (1.9.0+cu102)\n",
      "Requirement already satisfied: torchvision in /usr/local/lib/python3.7/dist-packages (from pretrainedmodels) (0.10.0+cu102)\n",
      "Collecting munch\n",
      "  Downloading https://files.pythonhosted.org/packages/cc/ab/85d8da5c9a45e072301beb37ad7f833cd344e04c817d97e0cc75681d248f/munch-2.5.0-py2.py3-none-any.whl\n",
      "Requirement already satisfied: tqdm in /usr/local/lib/python3.7/dist-packages (from pretrainedmodels) (4.41.1)\n",
      "Requirement already satisfied: typing-extensions in /usr/local/lib/python3.7/dist-packages (from torch->pretrainedmodels) (3.7.4.3)\n",
      "Requirement already satisfied: pillow>=5.3.0 in /usr/local/lib/python3.7/dist-packages (from torchvision->pretrainedmodels) (7.1.2)\n",
      "Requirement already satisfied: numpy in /usr/local/lib/python3.7/dist-packages (from torchvision->pretrainedmodels) (1.19.5)\n",
      "Requirement already satisfied: six in /usr/local/lib/python3.7/dist-packages (from munch->pretrainedmodels) (1.15.0)\n",
      "Building wheels for collected packages: pretrainedmodels\n",
      "  Building wheel for pretrainedmodels (setup.py) ... \u001b[?25l\u001b[?25hdone\n",
      "  Created wheel for pretrainedmodels: filename=pretrainedmodels-0.7.4-cp37-none-any.whl size=60966 sha256=19cd9603a084297c64162e7fa3ba5ee229961244d574576ece850b5d69ebb5d5\n",
      "  Stored in directory: /root/.cache/pip/wheels/69/df/63/62583c096289713f22db605aa2334de5b591d59861a02c2ecd\n",
      "Successfully built pretrainedmodels\n",
      "Installing collected packages: munch, pretrainedmodels\n",
      "Successfully installed munch-2.5.0 pretrainedmodels-0.7.4\n"
     ]
    }
   ],
   "source": [
    "!pip install pretrainedmodels"
   ]
  },
  {
   "cell_type": "code",
   "execution_count": null,
   "metadata": {
    "id": "21ewkac7Wbur"
   },
   "outputs": [],
   "source": [
    "import pretrainedmodels"
   ]
  },
  {
   "cell_type": "code",
   "execution_count": 3,
   "metadata": {
    "id": "HBsroDmTlLM9"
   },
   "outputs": [],
   "source": [
    "image_path = \"drive/MyDrive/Animal_Breed/TRAIN (1)/\"\n",
    "train_data_transform = transforms.Compose([\n",
    "        transforms.Resize((331,331),interpolation = torchvision.transforms.InterpolationMode.BICUBIC),\n",
    "        transforms.RandomHorizontalFlip(),\n",
    "        transforms.RandomAffine(20),\n",
    "        # transforms.RandomRotation(20),\n",
    "        transforms.ToTensor(),\n",
    "        # transforms.Normalize((0.485, 0.456, 0.406), (0.229, 0.224, 0.225)),\n",
    "    ])\n",
    "\n",
    "train_dataset = ImageFolder(image_path, transform = train_data_transform)"
   ]
  },
  {
   "cell_type": "code",
   "execution_count": 4,
   "metadata": {
    "id": "cppQ06hBPVS5"
   },
   "outputs": [],
   "source": [
    "val_path = \"drive/MyDrive/Animal_Breed/VAL/\"\n",
    "val_data_transform = transforms.Compose([\n",
    "    transforms.Resize((331,331),interpolation = torchvision.transforms.InterpolationMode.BICUBIC),\n",
    "    transforms.ToTensor(),\n",
    "    # transforms.Normalize((0.485, 0.456, 0.406), (0.229, 0.224, 0.225)),\n",
    "])\n",
    "val_dataset = ImageFolder(val_path, transform = val_data_transform)"
   ]
  },
  {
   "cell_type": "code",
   "execution_count": 2,
   "metadata": {
    "colab": {
     "base_uri": "https://localhost:8080/"
    },
    "id": "zmAIK9C9PrZM",
    "outputId": "5df7d1a5-e616-40f7-8ad8-3d3a934d3d0d"
   },
   "outputs": [
    {
     "name": "stdout",
     "output_type": "stream",
     "text": [
      "Mounted at /content/drive\n"
     ]
    }
   ],
   "source": [
    "from google.colab import drive\n",
    "drive.mount('/content/drive')"
   ]
  },
  {
   "cell_type": "code",
   "execution_count": 5,
   "metadata": {
    "id": "sdnm7DH1PVS7"
   },
   "outputs": [],
   "source": [
    "train_loader = torch.utils.data.DataLoader(train_dataset, 32, \n",
    "                                             shuffle=True, num_workers = 2)\n",
    "val_loader = torch.utils.data.DataLoader(val_dataset, 1, shuffle = False, )"
   ]
  },
  {
   "cell_type": "code",
   "execution_count": null,
   "metadata": {
    "colab": {
     "base_uri": "https://localhost:8080/",
     "height": 102,
     "referenced_widgets": [
      "dafefc7e6094412baf5a68e2fb164403",
      "60f8dc36a3a940cd9d3c6157dc01873e",
      "25c58b31ab23453ca835cb4929d1aa57",
      "125c34c320b74b439534321241bf0dac",
      "dadb1a8ffb8a41ceac0831c85233920f",
      "29ccbb3662124b34a77304cf98ffc3a1",
      "407b9601bbfe4dc1b3930249f1ab6e25",
      "33e31fb7464348dd8404ce048f59a367"
     ]
    },
    "id": "8s0nM_gO9VGx",
    "outputId": "f42c8afe-17d3-4418-838f-3498851ec4dd"
   },
   "outputs": [
    {
     "name": "stderr",
     "output_type": "stream",
     "text": [
      "Downloading: \"http://data.lip6.fr/cadene/pretrainedmodels/nasnetalarge-a1897284.pth\" to /root/.cache/torch/hub/checkpoints/nasnetalarge-a1897284.pth\n"
     ]
    },
    {
     "data": {
      "application/vnd.jupyter.widget-view+json": {
       "model_id": "dafefc7e6094412baf5a68e2fb164403",
       "version_major": 2,
       "version_minor": 0
      },
      "text/plain": [
       "HBox(children=(FloatProgress(value=0.0, max=356056626.0), HTML(value='')))"
      ]
     },
     "metadata": {
      "tags": []
     },
     "output_type": "display_data"
    },
    {
     "name": "stdout",
     "output_type": "stream",
     "text": [
      "\n"
     ]
    }
   ],
   "source": [
    "model_name = 'nasnetalarge' # could be fbresnet152 or inceptionresnetv2\n",
    "model = pretrainedmodels.__dict__[model_name](num_classes=1000, pretrained='imagenet')"
   ]
  },
  {
   "cell_type": "code",
   "execution_count": null,
   "metadata": {
    "id": "ni1PfN7-PVS9"
   },
   "outputs": [],
   "source": [
    "model.last_linear = nn.Linear(4032,37,bias = True)"
   ]
  },
  {
   "cell_type": "code",
   "execution_count": 16,
   "metadata": {
    "colab": {
     "base_uri": "https://localhost:8080/"
    },
    "id": "sHk1DOoy_JDZ",
    "outputId": "c51aae1b-bb66-44bd-d4ed-453c6c5440e0"
   },
   "outputs": [
    {
     "data": {
      "text/plain": [
       "Linear(in_features=2048, out_features=1000, bias=True)"
      ]
     },
     "execution_count": 16,
     "metadata": {
      "tags": []
     },
     "output_type": "execute_result"
    }
   ],
   "source": [
    "inception = models.inception_v3(pretrained=True)\n",
    "inception.fc"
   ]
  },
  {
   "cell_type": "code",
   "execution_count": 17,
   "metadata": {
    "id": "mJhVk6LEkA0q"
   },
   "outputs": [],
   "source": [
    "inception.fc = nn.Sequential(nn.Linear(2048,37,bias = True),)\n",
    "                            #  nn.ReLU(inplace = True),\n",
    "                            #  nn.Dropout(0.25),\n",
    "                            #  nn.Linear(1024,37)\n",
    "                            #  )\n",
    "                            #  nn.Hardswish(),\n",
    "                            #  nn.Dropout(0.2,inplace = True),\n",
    "                            #  nn.Linear(1280,37,bias = True))\n",
    "inception.aux_logits = False"
   ]
  },
  {
   "cell_type": "code",
   "execution_count": 18,
   "metadata": {
    "id": "enq-Y-aoPVTC"
   },
   "outputs": [],
   "source": [
    "inception = inception.cuda()"
   ]
  },
  {
   "cell_type": "code",
   "execution_count": 19,
   "metadata": {
    "colab": {
     "base_uri": "https://localhost:8080/"
    },
    "id": "BB4KlWLYPVTD",
    "outputId": "328d3307-84f1-438c-e62a-e878b112b942"
   },
   "outputs": [
    {
     "name": "stdout",
     "output_type": "stream",
     "text": [
      "cuda\n"
     ]
    }
   ],
   "source": [
    "def get_default_device():\n",
    "    if torch.cuda.is_available():\n",
    "        return torch.device(\"cuda\")\n",
    "    else:\n",
    "        return torch.device(\"cpu\")\n",
    "\n",
    "device = get_default_device()\n",
    "print(device)"
   ]
  },
  {
   "cell_type": "code",
   "execution_count": 20,
   "metadata": {
    "id": "ikBvEd_zPVTG"
   },
   "outputs": [],
   "source": [
    "criterion = nn.CrossEntropyLoss()\n",
    "optimizer = optim.Adam(inception.parameters(), lr = 0.0001)\n",
    "scheduler = torch.optim.lr_scheduler.ReduceLROnPlateau(optimizer, mode='max', factor=0.75, patience=1, verbose=True)"
   ]
  },
  {
   "cell_type": "code",
   "execution_count": 21,
   "metadata": {
    "id": "CdJXCManPVTH"
   },
   "outputs": [],
   "source": [
    "def train(model,dataloader,validloader,criterion,optimizer,epochs=50,scheduler=scheduler):\n",
    "    max_valid_acc = 0\n",
    "    train_acc,val_acc = 0,0\n",
    "    for e in range(epochs):\n",
    "        train_loss = 0.0\n",
    "        model.train()     # Optional when not using Model Specific layer\n",
    "        for data, labels in dataloader:\n",
    "#             print(labels.shape[0])\n",
    "            data, labels = data.to(device), labels.to(device)\n",
    "#             print(data.shape)\n",
    "            optimizer.zero_grad()\n",
    "            target = model(data)\n",
    "#             print(target.shape)\n",
    "            loss = criterion(target.float(),labels.long())\n",
    "            # loss.requires_grad = True\n",
    "            loss.backward()\n",
    "            optimizer.step()\n",
    "            train_loss = loss.item() * data.size(0)\n",
    "            train_acc += torch.sum((torch.max(target, 1)[1] == labels.data),0)\n",
    "            \n",
    "        valid_loss = 0.0\n",
    "        model.eval()     # Optional when not using Model Specific layer\n",
    "        for data, labels in validloader:\n",
    "            \n",
    "            data, labels = data.to(device), labels.to(device)\n",
    "\n",
    "            target = model(data)\n",
    "            loss = criterion(target.float(),labels.long())\n",
    "            # loss.requires_grad = True\n",
    "            valid_loss = loss.item() * data.size(0)\n",
    "            val_acc += torch.sum((torch.max(target, 1)[1] == labels.data),0)\n",
    "            \n",
    "        \n",
    "        print(f'Epoch {e+1} \\t\\t Training Loss: {train_loss / len(dataloader)} \\t\\t Validation Loss: {valid_loss / len(validloader)}')\n",
    "        print(\"Validation Accuracy ... :\",val_acc/(len(validloader)))\n",
    "        print(\"Train Accuracy ... :\",train_acc/len(train_dataset))\n",
    "        \n",
    "        if val_acc > max_valid_acc:\n",
    "            print(f'Validation Acc Increased({max_valid_acc:.6f}--->{val_acc:.6f}) \\t Saving The Model')\n",
    "            max_valid_acc = val_acc\n",
    "            # Saving State Dict\n",
    "            torch.save(model.state_dict(), 'HIGH_ACCURACY.pth')\n",
    "        scheduler.step(val_acc)\n",
    "        train_acc = 0\n",
    "        val_acc = 0\n",
    "        torch.cuda.empty_cache()\n",
    "    return model"
   ]
  },
  {
   "cell_type": "code",
   "execution_count": 22,
   "metadata": {
    "id": "zsNcULIYPVTJ"
   },
   "outputs": [],
   "source": []
  },
  {
   "cell_type": "code",
   "execution_count": 23,
   "metadata": {
    "colab": {
     "base_uri": "https://localhost:8080/"
    },
    "id": "w3P5UsI7PVTL",
    "outputId": "1fe1187d-fb20-4562-a212-c0386a94af8b"
   },
   "outputs": [
    {
     "name": "stdout",
     "output_type": "stream",
     "text": [
      "Epoch 1 \t\t Training Loss: 0.11903530059100913 \t\t Validation Loss: 7.539572524992217e-06\n",
      "Validation Accuracy ... : tensor(0.9129, device='cuda:0')\n",
      "Train Accuracy ... : tensor(0.7213, device='cuda:0')\n",
      "Validation Acc Increased(0.000000--->1352.000000) \t Saving The Model\n",
      "Epoch 2 \t\t Training Loss: 0.017908088166079077 \t\t Validation Loss: 6.464453996394954e-06\n",
      "Validation Accuracy ... : tensor(0.9190, device='cuda:0')\n",
      "Train Accuracy ... : tensor(0.9172, device='cuda:0')\n",
      "Validation Acc Increased(1352.000000--->1361.000000) \t Saving The Model\n",
      "Epoch 3 \t\t Training Loss: 0.03140674134810194 \t\t Validation Loss: 3.4237439586333853e-06\n",
      "Validation Accuracy ... : tensor(0.9298, device='cuda:0')\n",
      "Train Accuracy ... : tensor(0.9500, device='cuda:0')\n",
      "Validation Acc Increased(1361.000000--->1377.000000) \t Saving The Model\n",
      "Epoch 4 \t\t Training Loss: 0.022248744535789216 \t\t Validation Loss: 6.785320877716961e-07\n",
      "Validation Accuracy ... : tensor(0.9136, device='cuda:0')\n",
      "Train Accuracy ... : tensor(0.9665, device='cuda:0')\n",
      "Epoch 5 \t\t Training Loss: 0.019771982761595745 \t\t Validation Loss: 1.2251899837391107e-06\n",
      "Validation Accuracy ... : tensor(0.9223, device='cuda:0')\n",
      "Train Accuracy ... : tensor(0.9694, device='cuda:0')\n",
      "Epoch     5: reducing learning rate of group 0 to 7.5000e-05.\n",
      "Epoch 6 \t\t Training Loss: 0.00633384603604996 \t\t Validation Loss: 1.0487349138888836e-07\n",
      "Validation Accuracy ... : tensor(0.9237, device='cuda:0')\n",
      "Train Accuracy ... : tensor(0.9833, device='cuda:0')\n",
      "Epoch 7 \t\t Training Loss: 0.012533271913048176 \t\t Validation Loss: 4.3379532451226373e-07\n",
      "Validation Accuracy ... : tensor(0.9345, device='cuda:0')\n",
      "Train Accuracy ... : tensor(0.9851, device='cuda:0')\n",
      "Validation Acc Increased(1377.000000--->1384.000000) \t Saving The Model\n",
      "Epoch 8 \t\t Training Loss: 0.02112562204007622 \t\t Validation Loss: 8.877306569123655e-07\n",
      "Validation Accuracy ... : tensor(0.9278, device='cuda:0')\n",
      "Train Accuracy ... : tensor(0.9887, device='cuda:0')\n",
      "Epoch 9 \t\t Training Loss: 0.005669521020470763 \t\t Validation Loss: 7.807275256460217e-07\n",
      "Validation Accuracy ... : tensor(0.9217, device='cuda:0')\n",
      "Train Accuracy ... : tensor(0.9935, device='cuda:0')\n",
      "Epoch     9: reducing learning rate of group 0 to 5.6250e-05.\n",
      "Epoch 10 \t\t Training Loss: 0.009522765124444482 \t\t Validation Loss: 6.350280514526496e-07\n",
      "Validation Accuracy ... : tensor(0.9413, device='cuda:0')\n",
      "Train Accuracy ... : tensor(0.9939, device='cuda:0')\n",
      "Validation Acc Increased(1384.000000--->1394.000000) \t Saving The Model\n",
      "Done!!\n"
     ]
    }
   ],
   "source": [
    "train(inception,train_loader,val_loader,criterion,optimizer,10)\n",
    "print(\"Done!!\")"
   ]
  }
 ],
 "metadata": {
  "accelerator": "GPU",
  "colab": {
   "collapsed_sections": [],
   "name": "Animal_Breed.ipynb",
   "provenance": []
  },
  "kernelspec": {
   "display_name": "Python 3",
   "language": "python",
   "name": "python3"
  },
  "language_info": {
   "codemirror_mode": {
    "name": "ipython",
    "version": 3
   },
   "file_extension": ".py",
   "mimetype": "text/x-python",
   "name": "python",
   "nbconvert_exporter": "python",
   "pygments_lexer": "ipython3",
   "version": "3.8.2"
  },
  "widgets": {
   "application/vnd.jupyter.widget-state+json": {
    "125c34c320b74b439534321241bf0dac": {
     "model_module": "@jupyter-widgets/controls",
     "model_name": "HTMLModel",
     "state": {
      "_dom_classes": [],
      "_model_module": "@jupyter-widgets/controls",
      "_model_module_version": "1.5.0",
      "_model_name": "HTMLModel",
      "_view_count": null,
      "_view_module": "@jupyter-widgets/controls",
      "_view_module_version": "1.5.0",
      "_view_name": "HTMLView",
      "description": "",
      "description_tooltip": null,
      "layout": "IPY_MODEL_33e31fb7464348dd8404ce048f59a367",
      "placeholder": "​",
      "style": "IPY_MODEL_407b9601bbfe4dc1b3930249f1ab6e25",
      "value": " 340M/340M [16:41&lt;00:00, 355kB/s]"
     }
    },
    "25c58b31ab23453ca835cb4929d1aa57": {
     "model_module": "@jupyter-widgets/controls",
     "model_name": "FloatProgressModel",
     "state": {
      "_dom_classes": [],
      "_model_module": "@jupyter-widgets/controls",
      "_model_module_version": "1.5.0",
      "_model_name": "FloatProgressModel",
      "_view_count": null,
      "_view_module": "@jupyter-widgets/controls",
      "_view_module_version": "1.5.0",
      "_view_name": "ProgressView",
      "bar_style": "success",
      "description": "100%",
      "description_tooltip": null,
      "layout": "IPY_MODEL_29ccbb3662124b34a77304cf98ffc3a1",
      "max": 356056626,
      "min": 0,
      "orientation": "horizontal",
      "style": "IPY_MODEL_dadb1a8ffb8a41ceac0831c85233920f",
      "value": 356056626
     }
    },
    "29ccbb3662124b34a77304cf98ffc3a1": {
     "model_module": "@jupyter-widgets/base",
     "model_name": "LayoutModel",
     "state": {
      "_model_module": "@jupyter-widgets/base",
      "_model_module_version": "1.2.0",
      "_model_name": "LayoutModel",
      "_view_count": null,
      "_view_module": "@jupyter-widgets/base",
      "_view_module_version": "1.2.0",
      "_view_name": "LayoutView",
      "align_content": null,
      "align_items": null,
      "align_self": null,
      "border": null,
      "bottom": null,
      "display": null,
      "flex": null,
      "flex_flow": null,
      "grid_area": null,
      "grid_auto_columns": null,
      "grid_auto_flow": null,
      "grid_auto_rows": null,
      "grid_column": null,
      "grid_gap": null,
      "grid_row": null,
      "grid_template_areas": null,
      "grid_template_columns": null,
      "grid_template_rows": null,
      "height": null,
      "justify_content": null,
      "justify_items": null,
      "left": null,
      "margin": null,
      "max_height": null,
      "max_width": null,
      "min_height": null,
      "min_width": null,
      "object_fit": null,
      "object_position": null,
      "order": null,
      "overflow": null,
      "overflow_x": null,
      "overflow_y": null,
      "padding": null,
      "right": null,
      "top": null,
      "visibility": null,
      "width": null
     }
    },
    "33e31fb7464348dd8404ce048f59a367": {
     "model_module": "@jupyter-widgets/base",
     "model_name": "LayoutModel",
     "state": {
      "_model_module": "@jupyter-widgets/base",
      "_model_module_version": "1.2.0",
      "_model_name": "LayoutModel",
      "_view_count": null,
      "_view_module": "@jupyter-widgets/base",
      "_view_module_version": "1.2.0",
      "_view_name": "LayoutView",
      "align_content": null,
      "align_items": null,
      "align_self": null,
      "border": null,
      "bottom": null,
      "display": null,
      "flex": null,
      "flex_flow": null,
      "grid_area": null,
      "grid_auto_columns": null,
      "grid_auto_flow": null,
      "grid_auto_rows": null,
      "grid_column": null,
      "grid_gap": null,
      "grid_row": null,
      "grid_template_areas": null,
      "grid_template_columns": null,
      "grid_template_rows": null,
      "height": null,
      "justify_content": null,
      "justify_items": null,
      "left": null,
      "margin": null,
      "max_height": null,
      "max_width": null,
      "min_height": null,
      "min_width": null,
      "object_fit": null,
      "object_position": null,
      "order": null,
      "overflow": null,
      "overflow_x": null,
      "overflow_y": null,
      "padding": null,
      "right": null,
      "top": null,
      "visibility": null,
      "width": null
     }
    },
    "407b9601bbfe4dc1b3930249f1ab6e25": {
     "model_module": "@jupyter-widgets/controls",
     "model_name": "DescriptionStyleModel",
     "state": {
      "_model_module": "@jupyter-widgets/controls",
      "_model_module_version": "1.5.0",
      "_model_name": "DescriptionStyleModel",
      "_view_count": null,
      "_view_module": "@jupyter-widgets/base",
      "_view_module_version": "1.2.0",
      "_view_name": "StyleView",
      "description_width": ""
     }
    },
    "60f8dc36a3a940cd9d3c6157dc01873e": {
     "model_module": "@jupyter-widgets/base",
     "model_name": "LayoutModel",
     "state": {
      "_model_module": "@jupyter-widgets/base",
      "_model_module_version": "1.2.0",
      "_model_name": "LayoutModel",
      "_view_count": null,
      "_view_module": "@jupyter-widgets/base",
      "_view_module_version": "1.2.0",
      "_view_name": "LayoutView",
      "align_content": null,
      "align_items": null,
      "align_self": null,
      "border": null,
      "bottom": null,
      "display": null,
      "flex": null,
      "flex_flow": null,
      "grid_area": null,
      "grid_auto_columns": null,
      "grid_auto_flow": null,
      "grid_auto_rows": null,
      "grid_column": null,
      "grid_gap": null,
      "grid_row": null,
      "grid_template_areas": null,
      "grid_template_columns": null,
      "grid_template_rows": null,
      "height": null,
      "justify_content": null,
      "justify_items": null,
      "left": null,
      "margin": null,
      "max_height": null,
      "max_width": null,
      "min_height": null,
      "min_width": null,
      "object_fit": null,
      "object_position": null,
      "order": null,
      "overflow": null,
      "overflow_x": null,
      "overflow_y": null,
      "padding": null,
      "right": null,
      "top": null,
      "visibility": null,
      "width": null
     }
    },
    "dadb1a8ffb8a41ceac0831c85233920f": {
     "model_module": "@jupyter-widgets/controls",
     "model_name": "ProgressStyleModel",
     "state": {
      "_model_module": "@jupyter-widgets/controls",
      "_model_module_version": "1.5.0",
      "_model_name": "ProgressStyleModel",
      "_view_count": null,
      "_view_module": "@jupyter-widgets/base",
      "_view_module_version": "1.2.0",
      "_view_name": "StyleView",
      "bar_color": null,
      "description_width": "initial"
     }
    },
    "dafefc7e6094412baf5a68e2fb164403": {
     "model_module": "@jupyter-widgets/controls",
     "model_name": "HBoxModel",
     "state": {
      "_dom_classes": [],
      "_model_module": "@jupyter-widgets/controls",
      "_model_module_version": "1.5.0",
      "_model_name": "HBoxModel",
      "_view_count": null,
      "_view_module": "@jupyter-widgets/controls",
      "_view_module_version": "1.5.0",
      "_view_name": "HBoxView",
      "box_style": "",
      "children": [
       "IPY_MODEL_25c58b31ab23453ca835cb4929d1aa57",
       "IPY_MODEL_125c34c320b74b439534321241bf0dac"
      ],
      "layout": "IPY_MODEL_60f8dc36a3a940cd9d3c6157dc01873e"
     }
    }
   }
  }
 },
 "nbformat": 4,
 "nbformat_minor": 1
}
